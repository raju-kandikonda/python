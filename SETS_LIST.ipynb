{
  "nbformat": 4,
  "nbformat_minor": 0,
  "metadata": {
    "colab": {
      "provenance": [],
      "toc_visible": true,
      "authorship_tag": "ABX9TyOp95cA7Y4zd6RiVCgTrius",
      "include_colab_link": true
    },
    "kernelspec": {
      "name": "python3",
      "display_name": "Python 3"
    },
    "language_info": {
      "name": "python"
    }
  },
  "cells": [
    {
      "cell_type": "markdown",
      "metadata": {
        "id": "view-in-github",
        "colab_type": "text"
      },
      "source": [
        "<a href=\"https://colab.research.google.com/github/raju-kandikonda/python/blob/main/SETS_LIST.ipynb\" target=\"_parent\"><img src=\"https://colab.research.google.com/assets/colab-badge.svg\" alt=\"Open In Colab\"/></a>"
      ]
    },
    {
      "cell_type": "code",
      "execution_count": 9,
      "metadata": {
        "colab": {
          "base_uri": "https://localhost:8080/"
        },
        "id": "ncqXpOcwagrd",
        "outputId": "9e890b1a-adec-4a76-d9fc-43c71b34ff0f"
      },
      "outputs": [
        {
          "output_type": "stream",
          "name": "stdout",
          "text": [
            "{'mango', 'banana', 'apple', 200}\n"
          ]
        }
      ],
      "source": [
        "fruits={\"apple\",\"mango\",\"mango\",\"banana\",200}\n",
        "print(fruits)"
      ]
    },
    {
      "cell_type": "code",
      "source": [
        "Qualification=['raju','B.Tech',2026]\n",
        "Skills=['python','c++','java']\n",
        "CA=Qualification + Skills\n",
        "print(Qualification)\n",
        "print(Skills)\n",
        "print(CA)\n"
      ],
      "metadata": {
        "colab": {
          "base_uri": "https://localhost:8080/"
        },
        "id": "g8Rk0KZUj7qv",
        "outputId": "721340b8-213d-493f-9b4e-5092d158eab4"
      },
      "execution_count": 17,
      "outputs": [
        {
          "output_type": "stream",
          "name": "stdout",
          "text": [
            "['raju', 'B.Tech', 2026]\n",
            "['python', 'c++', 'java']\n",
            "['raju', 'B.Tech', 2026, 'python', 'c++', 'java']\n"
          ]
        }
      ]
    },
    {
      "cell_type": "code",
      "source": [
        "Qualification=['raju','B.Tech',2026]\n",
        "print(Qualification)\n",
        "print(Qualification[0])\n",
        "print(Qualification[1:])\n",
        "print(Qualification[1:3])\n",
        "print(Qualification * 2)\n",
        "print(Qualification [::-1])"
      ],
      "metadata": {
        "colab": {
          "base_uri": "https://localhost:8080/"
        },
        "id": "dqGLZXJ-mHGv",
        "outputId": "c3fb3c3f-9c5d-4b3e-f4e8-d5518ea368dc"
      },
      "execution_count": 20,
      "outputs": [
        {
          "output_type": "stream",
          "name": "stdout",
          "text": [
            "['raju', 'B.Tech', 2026]\n",
            "raju\n",
            "['B.Tech', 2026]\n",
            "['B.Tech', 2026]\n",
            "['raju', 'B.Tech', 2026, 'raju', 'B.Tech', 2026]\n",
            "[2026, 'B.Tech', 'raju']\n"
          ]
        }
      ]
    },
    {
      "cell_type": "code",
      "source": [
        "list=['raju','2024']\n",
        "print('raju birth year',list[1])\n",
        "list[0]='virat'\n",
        "list[1]=1988\n",
        "print('virat birth year',list[1])"
      ],
      "metadata": {
        "colab": {
          "base_uri": "https://localhost:8080/"
        },
        "id": "8KhW6xNinT53",
        "outputId": "49bb45f2-22e8-4edd-c164-c5b1d00a5cf6"
      },
      "execution_count": 21,
      "outputs": [
        {
          "output_type": "stream",
          "name": "stdout",
          "text": [
            "raju birth year 2024\n",
            "virat birth year 1988\n"
          ]
        }
      ]
    },
    {
      "cell_type": "code",
      "source": [
        "list=['HYDRA',2024]\n",
        "print(list)\n",
        "del list[1]\n",
        "print(list)"
      ],
      "metadata": {
        "colab": {
          "base_uri": "https://localhost:8080/"
        },
        "id": "1KkTmkJMojdH",
        "outputId": "4ce27114-45e2-4ba0-c385-ad5d8538f08f"
      },
      "execution_count": 23,
      "outputs": [
        {
          "output_type": "stream",
          "name": "stdout",
          "text": [
            "['HYDRA', 2024]\n",
            "['HYDRA']\n"
          ]
        }
      ]
    },
    {
      "cell_type": "code",
      "source": [
        "Name=['raju','rohithsharma','kohli']\n",
        "DOB=[2004,2003,1985]\n",
        "print('Name with maximum charecters',max(Name))\n",
        "print('Younger person DOB',max(DOB))\n",
        "print('Name with minimum charecters',min(Name))\n",
        "print('Older person DOB',min(DOB))"
      ],
      "metadata": {
        "colab": {
          "base_uri": "https://localhost:8080/"
        },
        "id": "KnF6PpMDt4sf",
        "outputId": "a86721b9-fabb-4fe1-8044-fc56db585786"
      },
      "execution_count": 28,
      "outputs": [
        {
          "output_type": "stream",
          "name": "stdout",
          "text": [
            "Name with maximum charecters rohithsharma\n",
            "Younger person DOB 2004\n",
            "Name with minimum charecters kohli\n",
            "Older person DOB 1985\n"
          ]
        }
      ]
    },
    {
      "cell_type": "code",
      "source": [
        "name=['revanth','rahul',\"uttham\"]\n",
        "print(\"member: \",name)\n",
        "name.pop()\n",
        "print(\"member: \",name)\n",
        "name.pop(1)\n",
        "print(\"member: \",name)"
      ],
      "metadata": {
        "colab": {
          "base_uri": "https://localhost:8080/"
        },
        "id": "eUz6N7tiw3HG",
        "outputId": "63c3d9bc-2302-4f3a-fb56-c9e145e85fcc"
      },
      "execution_count": 29,
      "outputs": [
        {
          "output_type": "stream",
          "name": "stdout",
          "text": [
            "member:  ['revanth', 'rahul', 'uttham']\n",
            "member:  ['revanth', 'rahul']\n",
            "member:  ['revanth']\n"
          ]
        }
      ]
    },
    {
      "cell_type": "code",
      "source": [
        "tuple=(\"master\",\"vikram\",\"khaithi\",\"leo\")\n",
        "print(tuple)\n",
        "print(tuple[0])\n",
        "print(tuple[0:2])\n",
        "print(tuple[0:])\n",
        "print(tuple[::-1])\n",
        "print(tuple[2:0:-1])\n",
        ""
      ],
      "metadata": {
        "colab": {
          "base_uri": "https://localhost:8080/"
        },
        "id": "YnLWYcDExJ-9",
        "outputId": "366b93a3-d420-4326-b137-a86fd37d8db7"
      },
      "execution_count": 30,
      "outputs": [
        {
          "output_type": "stream",
          "name": "stdout",
          "text": [
            "('master', 'vikram', 'khaithi', 'leo')\n",
            "master\n",
            "('master', 'vikram')\n",
            "('master', 'vikram', 'khaithi', 'leo')\n",
            "('leo', 'khaithi', 'vikram', 'master')\n",
            "('khaithi', 'vikram')\n"
          ]
        }
      ]
    },
    {
      "cell_type": "code",
      "source": [
        "\n",
        "dict={}\n",
        "print(dict)\n",
        "dict[\"one\"]=\"my opinon is my own\"\n",
        "print(dict)\n",
        "dict[\"2\"]=\"my self\"\n",
        "print(dict)\n",
        "print(dict.keys())\n",
        "print(dict.values())\n",
        ""
      ],
      "metadata": {
        "colab": {
          "base_uri": "https://localhost:8080/"
        },
        "id": "mQdG1bQmxVV1",
        "outputId": "47702c0c-f3f1-46f1-8acb-9457c1921ced"
      },
      "execution_count": 31,
      "outputs": [
        {
          "output_type": "stream",
          "name": "stdout",
          "text": [
            "{}\n",
            "{'one': 'my opinon is my own'}\n",
            "{'one': 'my opinon is my own', '2': 'my self'}\n",
            "dict_keys(['one', '2'])\n",
            "dict_values(['my opinon is my own', 'my self'])\n"
          ]
        }
      ]
    },
    {
      "cell_type": "code",
      "source": [
        "base={\"name\":\"ktr\",\"marks\":848}\n",
        "print(base)\n",
        "print(base[\"name\"])\n",
        "print(base[\"marks\"])\n",
        "base[\"marks\"]=900\n",
        "print(base)\n",
        "base[\"name\"]=\"sonu\"\n",
        "print(base)\n",
        "print(base.keys())\n",
        "print(base.values())\n",
        "\n"
      ],
      "metadata": {
        "colab": {
          "base_uri": "https://localhost:8080/"
        },
        "id": "bib46nVrxez8",
        "outputId": "e24ef0d4-c4a0-4210-de88-aba48e43160e"
      },
      "execution_count": 32,
      "outputs": [
        {
          "output_type": "stream",
          "name": "stdout",
          "text": [
            "{'name': 'ktr', 'marks': 848}\n",
            "ktr\n",
            "848\n",
            "{'name': 'ktr', 'marks': 900}\n",
            "{'name': 'sonu', 'marks': 900}\n",
            "dict_keys(['name', 'marks'])\n",
            "dict_values(['sonu', 900])\n"
          ]
        }
      ]
    }
  ]
}