{
  "nbformat": 4,
  "nbformat_minor": 0,
  "metadata": {
    "colab": {
      "provenance": [],
      "authorship_tag": "ABX9TyNo2sPVKjNVsZpuReSIZ5Vv",
      "include_colab_link": true
    },
    "kernelspec": {
      "name": "python3",
      "display_name": "Python 3"
    },
    "language_info": {
      "name": "python"
    }
  },
  "cells": [
    {
      "cell_type": "markdown",
      "metadata": {
        "id": "view-in-github",
        "colab_type": "text"
      },
      "source": [
        "<a href=\"https://colab.research.google.com/github/raju-kandikonda/python/blob/main/2205A21020_W7.ipynb\" target=\"_parent\"><img src=\"https://colab.research.google.com/assets/colab-badge.svg\" alt=\"Open In Colab\"/></a>"
      ]
    },
    {
      "cell_type": "code",
      "source": [
        "import math\n",
        "Vr=float(input((\"enter the receving end voltage:\")))\n",
        "length=float(input(\"enter the length:\"))\n",
        "r=float(input(\"enter the resistance per phase:\"))\n",
        "l=float(input(\"enter the inductance per phase:\"))\n",
        "load=float(input(\"enter the apparent power:\"))\n",
        "pf=float(input(\"enter the power factor:\"))\n",
        "type_pf=int(input(\"0:lagging 1:leading\"))\n",
        "Vphase=Vr/math.sqrt(3)\n",
        "R=r*length\n",
        "L=l*length\n",
        "X=2*3.14*50*L\n",
        "Z=complex(R,X)\n",
        "p=load*pf\n",
        "Q=load*math.sqrt(1-pf**2)\n",
        "\n",
        "if(type_pf==0):\n",
        "  S=complex(p,Q)\n",
        "else:\n",
        "  S=complex(p,-Q)\n",
        "Ir=(S.conjugate())/(3*Vphase)\n",
        "Vs=Vphase+Z*Ir\n",
        "voltage_regulation=(abs(Vs)-Vphase)*100/Vphase\n",
        "print(\"voltage_regulation=\",voltage_regulation)\n",
        "Ssend=3*Vs*Ir.conjugate()\n",
        "print(\"apparent power=\",Ssend)\n",
        "psend=Ssend.real\n",
        "print(\"sending end=\",psend)\n",
        "eff=p*100/psend\n",
        "print(\"efficiency=\",eff)"
      ],
      "metadata": {
        "colab": {
          "base_uri": "https://localhost:8080/"
        },
        "id": "N02V778zr9M9",
        "outputId": "1b8a733b-e51b-4023-825f-d1899b93fb87"
      },
      "execution_count": 9,
      "outputs": [
        {
          "output_type": "stream",
          "name": "stdout",
          "text": [
            "enter the receving end voltage:220000\n",
            "enter the length:40\n",
            "enter the resistance per phase:0.15\n",
            "enter the inductance per phase:0.0013263\n",
            "enter the apparent power:381000000\n",
            "enter the power factor:0.8\n",
            "0:lagging 1:leading0\n",
            "voltage_regulation= 11.908716696181807\n",
            "apparent power= (322795165.2892562+278561560.96710736j)\n",
            "sending end= 322795165.2892562\n",
            "efficiency= 94.42520606740476\n"
          ]
        }
      ]
    }
  ]
}